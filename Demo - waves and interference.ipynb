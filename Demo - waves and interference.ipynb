{
 "cells": [
  {
   "cell_type": "code",
   "execution_count": 1,
   "id": "67abffde-b2de-4036-86e7-24752c1482ff",
   "metadata": {},
   "outputs": [],
   "source": [
    "import numpy as np\n",
    "import matplotlib.pyplot as plt\n",
    "from matplotlib.animation import FuncAnimation\n",
    "%matplotlib widget\n",
    "\n",
    "from ipywidgets import interact"
   ]
  },
  {
   "cell_type": "markdown",
   "id": "2467d019-d327-4ed6-96d9-e577f3c716f4",
   "metadata": {},
   "source": [
    "# Waves Fundamental"
   ]
  },
  {
   "cell_type": "markdown",
   "id": "0007e4de-d052-475a-9b3a-c85bbf8fdd1d",
   "metadata": {},
   "source": [
    "## Single propagating wave"
   ]
  },
  {
   "cell_type": "code",
   "execution_count": 7,
   "id": "f3648e8a-0f82-47d2-bf1b-90726f01d9d8",
   "metadata": {},
   "outputs": [
    {
     "data": {
      "application/vnd.jupyter.widget-view+json": {
       "model_id": "c70f292e3427493da82461fd629ce00a",
       "version_major": 2,
       "version_minor": 0
      },
      "text/plain": [
       "Canvas(toolbar=Toolbar(toolitems=[('Home', 'Reset original view', 'home', 'home'), ('Back', 'Back to previous …"
      ]
     },
     "metadata": {},
     "output_type": "display_data"
    },
    {
     "data": {
      "application/vnd.jupyter.widget-view+json": {
       "model_id": "7ea262fc18da435dbca969295f60ce00",
       "version_major": 2,
       "version_minor": 0
      },
      "text/plain": [
       "interactive(children=(FloatSlider(value=5.0, description='wt', max=10.0), Output()), _dom_classes=('widget-int…"
      ]
     },
     "metadata": {},
     "output_type": "display_data"
    }
   ],
   "source": [
    "E = lambda kr, wt : np.exp(1j*(kr-wt))\n",
    "\n",
    "# Create initial graph\n",
    "wt = 0\n",
    "plt.close()\n",
    "plt.figure(figsize=[10, 5], dpi=96)\n",
    "kr = np.linspace(-20, 20, 1000)\n",
    "line = plt.plot(kr, E(kr, wt).real)\n",
    "plt.xlabel('$k \\cdot r$')\n",
    "plt.ylabel('E')\n",
    "plt.tight_layout()\n",
    "    \n",
    "# update graph\n",
    "@interact(wt=(0, 10, 0.1))\n",
    "def plot_singlewave(wt):\n",
    "    line[0].set_ydata(E(kr, wt))"
   ]
  },
  {
   "cell_type": "markdown",
   "id": "d182743a-806a-48e9-9ba4-ecdf01f4b233",
   "metadata": {},
   "source": [
    "## Two propagating waves"
   ]
  },
  {
   "cell_type": "code",
   "execution_count": 33,
   "id": "4f55d6aa-8a15-48a1-a6ce-abc4dc10924f",
   "metadata": {},
   "outputs": [
    {
     "data": {
      "application/vnd.jupyter.widget-view+json": {
       "model_id": "59ebde37dd8e4299a9a9b0e107ffd7d4",
       "version_major": 2,
       "version_minor": 0
      },
      "text/plain": [
       "Canvas(toolbar=Toolbar(toolitems=[('Home', 'Reset original view', 'home', 'home'), ('Back', 'Back to previous …"
      ]
     },
     "metadata": {},
     "output_type": "display_data"
    },
    {
     "data": {
      "application/vnd.jupyter.widget-view+json": {
       "model_id": "ec0502262cf54c94bae1272a60c37d92",
       "version_major": 2,
       "version_minor": 0
      },
      "text/plain": [
       "interactive(children=(FloatSlider(value=0.0, description='dk', max=1.0, step=0.01), FloatSlider(value=0.0, des…"
      ]
     },
     "metadata": {},
     "output_type": "display_data"
    }
   ],
   "source": [
    "k = 1\n",
    "dk = 0.1\n",
    "w = 1\n",
    "dw = 0.1\n",
    "r = np.linspace(-20, 20, 1000)\n",
    "\n",
    "E1 = lambda k, dk, w, dw, r, t : np.exp(1j*((k+dk)*r - (w+dw)*t))\n",
    "E2 = lambda k, dk, w, dw, r, t : np.exp(1j*((k-dk)*r - (w-dw)*t))\n",
    "\n",
    "# Create initial graph\n",
    "t = 0\n",
    "plt.close()\n",
    "plt.figure(figsize=[10, 5], dpi=96)\n",
    "plt.subplot(2,1,1)\n",
    "line1 = plt.plot(r, E1(k, dk, w, dw, r, t).real, label='$E_1$')\n",
    "line2 = plt.plot(r, E2(k, dk, w, dw, r, t).real, label='$E_2$')\n",
    "plt.xlabel('$r$')\n",
    "plt.ylabel('E')\n",
    "plt.legend(loc=1)\n",
    "plt.tight_layout()\n",
    "plt.subplot(2,1,2)\n",
    "line3 = plt.plot(r, (E1(k, dk, w, dw, r, t)+E2(k, dk, w, dw, r, t)).real, label='$E$', color='tab:green')\n",
    "line4 = plt.plot(r, 2*np.cos(dk*r-dw*t), label='$Envelope$', color='tab:red')\n",
    "plt.xlabel('$r$')\n",
    "plt.ylabel('E')\n",
    "plt.legend(loc=1)\n",
    "plt.tight_layout()\n",
    "    \n",
    "# update graph\n",
    "@interact(dk=(0,1,0.01),\n",
    "          dw=(0,1,0.01),\n",
    "          t=(0, 30, 0.1))\n",
    "def plot_singlewave(dk, dw, t):\n",
    "    line1[0].set_ydata(E1(k, dk, w, dw, r, t).real)\n",
    "    line2[0].set_ydata(E2(k, dk, w, dw, r, t).real)\n",
    "    line3[0].set_ydata((E1(k, dk, w, dw, r, t)+E2(k, dk, w, dw, r, t)).real)\n",
    "    line4[0].set_ydata(2*np.cos(dk*r-dw*t))"
   ]
  }
 ],
 "metadata": {
  "kernelspec": {
   "display_name": "phs2223",
   "language": "python",
   "name": "phs2223"
  },
  "language_info": {
   "codemirror_mode": {
    "name": "ipython",
    "version": 3
   },
   "file_extension": ".py",
   "mimetype": "text/x-python",
   "name": "python",
   "nbconvert_exporter": "python",
   "pygments_lexer": "ipython3",
   "version": "3.8.12"
  }
 },
 "nbformat": 4,
 "nbformat_minor": 5
}
